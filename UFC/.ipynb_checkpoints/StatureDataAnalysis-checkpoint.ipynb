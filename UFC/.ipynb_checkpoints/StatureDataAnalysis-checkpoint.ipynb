{
 "cells": [
  {
   "cell_type": "code",
   "execution_count": 6,
   "id": "80a00ada",
   "metadata": {},
   "outputs": [],
   "source": [
    "import pandas as pd\n",
    "import matplotlib.pyplot as plt\n",
    "from sklearn.tree import DecisionTreeClassifier\n",
    "from sklearn.naive_bayes import GaussianNB\n",
    "from sklearn.ensemble import RandomForestClassifier\n",
    "from sklearn.neighbors import KNeighborsClassifier\n",
    "\n",
    "from sklearn.metrics import classification_report\n",
    "from sklearn.metrics import confusion_matrix\n",
    "from sklearn.model_selection import train_test_split\n",
    "\n",
    "\n",
    "import seaborn as sns\n",
    "\n",
    "\n",
    "fight_data = pd.read_csv('fight_data_cleaned.csv')\n",
    "\n",
    "def parse_date(date_str):\n",
    "    try:\n",
    "        return pd.to_datetime(date_str, format='%Y-%m-%d')\n",
    "    except ValueError:\n",
    "        return pd.to_datetime(date_str, format='%m/%d/%Y')\n",
    "\n",
    "fight_data['date'] = fight_data['date'].apply(parse_date) # Convert to datetime\n",
    "fight_data.dropna(subset=['date'], inplace=True) # Drop rows with invalid dates\n",
    "fight_data['year'] = fight_data['date'].dt.year\n",
    "fight_data.drop(columns=['date'])\n",
    "fighters = fight_data[['R_fighter', 'B_fighter', 'R_Height_cms', 'B_Height_cms', 'R_Reach_cms', 'B_Reach_cms', 'R_Weight_lbs', 'B_Weight_lbs', 'Winner']].copy()\n",
    "\n",
    "\n",
    "# Define features and target\n",
    "features = ['R_Height_cms', 'B_Height_cms', 'R_Reach_cms', 'B_Reach_cms', 'R_Weight_lbs', 'B_Weight_lbs']\n",
    "target = ['Winner']\n",
    "\n",
    "new_features = ['R_Height_cms', 'B_Height_cms', 'R_Reach_cms', 'B_Reach_cms']\n",
    "X = fighters[new_features]\n",
    "y = fighters[target]"
   ]
  },
  {
   "cell_type": "code",
   "execution_count": 7,
   "id": "11165527",
   "metadata": {},
   "outputs": [],
   "source": [
    "def plot_confusion_matrix(y_true, y_pred, labels):\n",
    "    cm = confusion_matrix(y_true, y_pred, labels=labels)\n",
    "    plt.figure(figsize=(8, 6))\n",
    "    sns.heatmap(cm, annot=True, fmt=\"d\", cmap=\"Blues\", xticklabels=labels, yticklabels=labels)\n",
    "    plt.xlabel('Predicted labels')\n",
    "    plt.ylabel('True labels')\n",
    "    plt.title('Confusion Matrix')\n",
    "    plt.show()\n",
    "\n",
    "def print_result(X, y, model):\n",
    "    X_train, X_test, y_train, y_test = train_test_split(X, y)\n",
    "    model.fit(X_train, y_train)\n",
    "    y_pred = model.predict(X_test)\n",
    "    \n",
    "    # Output the accuracies\n",
    "    print(model)\n",
    "    print(classification_report(y_test, y_pred))\n",
    "    print(\"Balanced Accuracy: \", balanced_accuracy_score(y_test, y_pred))\n",
    "\n",
    "    # Output the confusion matrix\n",
    "    plot_confusion_matrix(y_test, y_pred, labels=['Red', 'Blue'])\n",
    "    \n",
    "def ShowFeatureImportance(X, y, model):\n",
    "    X_train, X_test, y_train, y_test = train_test_split(X, y)\n",
    "    model = model.fit(X_train, y_train)\n",
    "\n",
    "    hist_df = pd.DataFrame({'Feature': X.columns, 'Feature importance': model.feature_importances_})\n",
    "    hist_df = hist_df.sort_values(by='Feature importance', ascending=True)\n",
    "    plt.figure(figsize=(10, 4))\n",
    "    plt.barh(hist_df['Feature'], hist_df['Feature importance'])\n",
    "    plt.xlabel('Importance')\n",
    "    plt.ylabel('Feature')\n",
    "    plt.title(model)\n",
    "    plt.tight_layout()\n",
    "    plt.show()\n",
    "    "
   ]
  },
  {
   "cell_type": "code",
   "execution_count": 8,
   "id": "c0a79337",
   "metadata": {},
   "outputs": [
    {
     "name": "stdout",
     "output_type": "stream",
     "text": [
      "DecisionTreeClassifier()\n",
      "              precision    recall  f1-score   support\n",
      "\n",
      "        Blue       0.42      0.47      0.45       519\n",
      "         Red       0.57      0.52      0.55       705\n",
      "\n",
      "    accuracy                           0.50      1224\n",
      "   macro avg       0.50      0.50      0.50      1224\n",
      "weighted avg       0.51      0.50      0.50      1224\n",
      "\n"
     ]
    },
    {
     "ename": "NameError",
     "evalue": "name 'balanced_accuracy_score' is not defined",
     "output_type": "error",
     "traceback": [
      "\u001b[0;31m---------------------------------------------------------------------------\u001b[0m",
      "\u001b[0;31mNameError\u001b[0m                                 Traceback (most recent call last)",
      "Cell \u001b[0;32mIn[8], line 3\u001b[0m\n\u001b[1;32m      1\u001b[0m \u001b[38;5;66;03m# DecisionTreeClassifier\u001b[39;00m\n\u001b[1;32m      2\u001b[0m model_dt \u001b[38;5;241m=\u001b[39m DecisionTreeClassifier()\n\u001b[0;32m----> 3\u001b[0m print_result(X, y, model_dt)\n\u001b[1;32m      4\u001b[0m ShowFeatureImportance(X, y, model_dt)\n\u001b[1;32m      6\u001b[0m \u001b[38;5;66;03m# GaussianNB\u001b[39;00m\n",
      "Cell \u001b[0;32mIn[7], line 18\u001b[0m, in \u001b[0;36mprint_result\u001b[0;34m(X, y, model)\u001b[0m\n\u001b[1;32m     16\u001b[0m \u001b[38;5;28mprint\u001b[39m(model)\n\u001b[1;32m     17\u001b[0m \u001b[38;5;28mprint\u001b[39m(classification_report(y_test, y_pred))\n\u001b[0;32m---> 18\u001b[0m \u001b[38;5;28mprint\u001b[39m(\u001b[38;5;124m\"\u001b[39m\u001b[38;5;124mBalanced Accuracy: \u001b[39m\u001b[38;5;124m\"\u001b[39m, balanced_accuracy_score(y_test, y_pred))\n\u001b[1;32m     20\u001b[0m \u001b[38;5;66;03m# Output the confusion matrix\u001b[39;00m\n\u001b[1;32m     21\u001b[0m plot_confusion_matrix(y_test, y_pred, labels\u001b[38;5;241m=\u001b[39m[\u001b[38;5;124m'\u001b[39m\u001b[38;5;124mRed\u001b[39m\u001b[38;5;124m'\u001b[39m, \u001b[38;5;124m'\u001b[39m\u001b[38;5;124mBlue\u001b[39m\u001b[38;5;124m'\u001b[39m])\n",
      "\u001b[0;31mNameError\u001b[0m: name 'balanced_accuracy_score' is not defined"
     ]
    }
   ],
   "source": [
    "# DecisionTreeClassifier\n",
    "model_dt = DecisionTreeClassifier()\n",
    "print_result(X, y, model_dt)\n",
    "ShowFeatureImportance(X, y, model_dt)\n",
    "\n",
    "# GaussianNB\n",
    "model_nb = GaussianNB()\n",
    "print_result(X, y, model_nb)\n",
    "\n",
    "# RandomForestClassifier\n",
    "model_rf = RandomForestClassifier(n_estimators=200)\n",
    "print_result(X, y, model_rf)\n",
    "ShowFeatureImportance(X, y, model_rf)\n",
    "\n",
    "# KNeighborsClassifier\n",
    "model_knn = KNeighborsClassifier(5)\n",
    "print_result(X, y, model_knn)"
   ]
  },
  {
   "cell_type": "code",
   "execution_count": null,
   "id": "89d96ae7",
   "metadata": {},
   "outputs": [],
   "source": []
  }
 ],
 "metadata": {
  "kernelspec": {
   "display_name": "Python 3 (ipykernel)",
   "language": "python",
   "name": "python3"
  },
  "language_info": {
   "codemirror_mode": {
    "name": "ipython",
    "version": 3
   },
   "file_extension": ".py",
   "mimetype": "text/x-python",
   "name": "python",
   "nbconvert_exporter": "python",
   "pygments_lexer": "ipython3",
   "version": "3.11.5"
  }
 },
 "nbformat": 4,
 "nbformat_minor": 5
}
